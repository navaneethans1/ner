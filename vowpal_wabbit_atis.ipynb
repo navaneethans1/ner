{
 "cells": [
  {
   "cell_type": "code",
   "execution_count": 1,
   "metadata": {
    "collapsed": true
   },
   "outputs": [],
   "source": [
    "import pyvw\n",
    "import random\n",
    "import pandas as pd\n",
    "import cPickle\n",
    "\n",
    "pd.options.display.max_colwidth = 250"
   ]
  },
  {
   "cell_type": "markdown",
   "metadata": {},
   "source": [
    "# Understand ATIS dataset structure"
   ]
  },
  {
   "cell_type": "code",
   "execution_count": 2,
   "metadata": {
    "collapsed": true
   },
   "outputs": [],
   "source": [
    "with open(\"/tweetsdb/ner/datasets/atis.pkl\") as f:\n",
    "    train, test, dicts = cPickle.load(f)"
   ]
  },
  {
   "cell_type": "code",
   "execution_count": 3,
   "metadata": {
    "collapsed": true
   },
   "outputs": [],
   "source": [
    "idx2words = {v: k for k, v in dicts['words2idx'].iteritems()}\n",
    "idx2labels = {v: k for k, v in dicts['labels2idx'].iteritems()}\n",
    "idx2tables = {v: k for k, v in dicts['tables2idx'].iteritems()}"
   ]
  },
  {
   "cell_type": "code",
   "execution_count": 28,
   "metadata": {
    "collapsed": false
   },
   "outputs": [
    {
     "name": "stdout",
     "output_type": "stream",
     "text": [
      "[232 542 502 196 208  77  62  10  35  40  58 234 137  62  11 234 481 321]\n",
      "i want to fly from boston at DIGITDIGITDIGIT am and arrive in denver at DIGITDIGITDIGITDIGIT in the morning\n",
      "\n",
      "[126 126 126 126 126  48 126  35  99 126 126 126  78 126  14 126 126  12]\n",
      "O O O O O B-fromloc.city_name O B-depart_time.time I-depart_time.time O O O B-toloc.city_name O B-arrive_time.time O O B-arrive_time.period_of_day\n"
     ]
    }
   ],
   "source": [
    "print train[0][0] #contains sequence of integers, each of which maps to a word\n",
    "print ' '.join(map(lambda x: idx2words[x], train[0][0])) #map word indices to words in dictionary\n",
    "print ''\n",
    "print train[2][0] #contains sequence of integers, each of which maps to a label\n",
    "print ' '.join(map(lambda x: idx2labels[x], train[2][0])) #map label indices to label names"
   ]
  },
  {
   "cell_type": "markdown",
   "metadata": {},
   "source": [
    "## Generate ATIS dataset"
   ]
  },
  {
   "cell_type": "code",
   "execution_count": 21,
   "metadata": {
    "collapsed": true
   },
   "outputs": [],
   "source": [
    "#Convert the dataset into a format compatible with Vowpal Wabbit\n",
    "training_set = []\n",
    "for i in xrange(len(train[0])):\n",
    "    zip_label_ent_idx = zip(train[2][i], train[0][i])\n",
    "    label_ent_actual = [(int(i[0]), idx2words[i[1]]) for i in zip_label_ent_idx]\n",
    "    training_set.append(label_ent_actual)\n",
    "random.shuffle(training_set)"
   ]
  },
  {
   "cell_type": "code",
   "execution_count": 30,
   "metadata": {
    "collapsed": false
   },
   "outputs": [
    {
     "data": {
      "text/plain": [
       "[[(126, 'show'),\n",
       "  (126, 'me'),\n",
       "  (126, 'all'),\n",
       "  (126, 'flights'),\n",
       "  (126, 'from'),\n",
       "  (48, 'charlotte')],\n",
       " [(126, 'show'),\n",
       "  (126, 'all'),\n",
       "  (44, 'nonstop'),\n",
       "  (126, 'flights'),\n",
       "  (126, 'from'),\n",
       "  (48, 'boston'),\n",
       "  (126, 'to'),\n",
       "  (78, 'atlanta')],\n",
       " [(126, 'in'),\n",
       "  (126, 'flight'),\n",
       "  (51, 'meal'),\n",
       "  (48, 'oakland'),\n",
       "  (126, 'to'),\n",
       "  (78, 'philadelphia'),\n",
       "  (26, 'saturday')]]"
      ]
     },
     "execution_count": 30,
     "metadata": {},
     "output_type": "execute_result"
    }
   ],
   "source": [
    "training_set[:3] #training_set is a list of lists, where each sublist contains (label, word) tuples"
   ]
  },
  {
   "cell_type": "code",
   "execution_count": 23,
   "metadata": {
    "collapsed": true
   },
   "outputs": [],
   "source": [
    "# Similarly for the test set\n",
    "test_set = []\n",
    "for i in xrange(len(test[0])):\n",
    "    zip_label_ent_idx = zip(test[2][i], test[0][i])\n",
    "    label_ent_actual = [(int(i[0]), idx2words[i[1]]) for i in zip_label_ent_idx]\n",
    "    test_set.append(label_ent_actual)"
   ]
  },
  {
   "cell_type": "code",
   "execution_count": 26,
   "metadata": {
    "collapsed": false
   },
   "outputs": [
    {
     "data": {
      "text/plain": [
       "[(126, 'i'),\n",
       " (126, 'would'),\n",
       " (126, 'like'),\n",
       " (126, 'to'),\n",
       " (126, 'find'),\n",
       " (126, 'a'),\n",
       " (126, 'flight'),\n",
       " (126, 'from'),\n",
       " (48, 'charlotte'),\n",
       " (126, 'to'),\n",
       " (78, 'las'),\n",
       " (123, 'vegas'),\n",
       " (126, 'that'),\n",
       " (126, 'makes'),\n",
       " (126, 'a'),\n",
       " (126, 'stop'),\n",
       " (126, 'in'),\n",
       " (71, 'st.'),\n",
       " (119, 'louis')]"
      ]
     },
     "execution_count": 26,
     "metadata": {},
     "output_type": "execute_result"
    }
   ],
   "source": [
    "test_set[0]"
   ]
  },
  {
   "cell_type": "markdown",
   "metadata": {},
   "source": [
    "# Define Vowpal Wabbit class"
   ]
  },
  {
   "cell_type": "code",
   "execution_count": 9,
   "metadata": {
    "collapsed": true
   },
   "outputs": [],
   "source": [
    "class SequenceLabeler(pyvw.SearchTask):\n",
    "    def __init__(self, vw, sch, num_actions):\n",
    "        # you must must must initialize the parent class\n",
    "        # this will automatically store self.sch <- sch, self.vw <- vw\n",
    "        pyvw.SearchTask.__init__(self, vw, sch, num_actions)\n",
    "        \n",
    "        # set whatever options you want\n",
    "        sch.set_options( sch.AUTO_HAMMING_LOSS | sch.AUTO_CONDITION_FEATURES )\n",
    "\n",
    "    def _run(self, sentence):   # it's called _run to remind you that you shouldn't call it directly!\n",
    "        output = []\n",
    "        for n in range(len(sentence)):\n",
    "            pos,word = sentence[n]\n",
    "            # use \"with...as...\" to guarantee that the example is finished properly\n",
    "            with self.vw.example({'w': [word]}) as ex:\n",
    "                pred = self.sch.predict(examples=ex, my_tag=n+1, oracle=pos, condition=[(n,'p'), (n-1, 'q')])\n",
    "                output.append(pred)\n",
    "        return output"
   ]
  },
  {
   "cell_type": "code",
   "execution_count": 10,
   "metadata": {
    "collapsed": false
   },
   "outputs": [],
   "source": [
    "vw = pyvw.vw(\"--search 3 --search_task hook --ring_size 1024\")"
   ]
  },
  {
   "cell_type": "markdown",
   "metadata": {},
   "source": [
    "## Training"
   ]
  },
  {
   "cell_type": "code",
   "execution_count": 11,
   "metadata": {
    "collapsed": false
   },
   "outputs": [],
   "source": [
    "sequenceLabeler = vw.init_search_task(SequenceLabeler)\n",
    "for i in xrange(3):\n",
    "    sequenceLabeler.learn(training_set[:10])"
   ]
  },
  {
   "cell_type": "markdown",
   "metadata": {},
   "source": [
    "## Test"
   ]
  },
  {
   "cell_type": "markdown",
   "metadata": {},
   "source": [
    "When Vowpal Wabbit makes a prediction on test set sentences, it only outputs labels 1 & 2. The actual labels go from 0 to 126."
   ]
  },
  {
   "cell_type": "code",
   "execution_count": 18,
   "metadata": {
    "collapsed": false
   },
   "outputs": [
    {
     "name": "stdout",
     "output_type": "stream",
     "text": [
      "input sentence: what is the lowest fare from washington dc to montreal\n",
      "actual labels: 126 126 126 21 126 126 48 49 126 78\n",
      "predicted labels: 1 1 1 1 1 1 2 1 1 2\n",
      "\n",
      "input sentence: flight numbers on american airlines from phoenix to milwaukee\n",
      "actual labels: 126 126 126 2 83 126 48 126 78\n",
      "predicted labels: 1 1 1 2 1 1 2 1 1\n",
      "\n",
      "input sentence: list airports in la\n",
      "actual labels: 126 126 126 17\n",
      "predicted labels: 1 1 1 2\n",
      "\n",
      "input sentence: i would like to see flights from cincinnati to salt lake city\n",
      "actual labels: 126 126 126 126 126 126 126 48 126 78 123 123\n",
      "predicted labels: 1 1 1 1 2 1 1 2 1 1 2 1\n",
      "\n",
      "input sentence: get last flight from oakland to salt lake city on wednesday or first flight from oakland to salt lake city on thursday\n",
      "actual labels: 126 42 126 126 48 126 78 123 123 126 26 56 42 126 126 48 126 78 123 123 126 26\n",
      "predicted labels: 1 1 1 1 2 1 1 2 1 1 1 2 1 1 1 2 1 1 2 1 1 2\n",
      "\n",
      "input sentence: list flights from oakland to salt lake city leaving after DIGITDIGITDIGITDIGIT wednesday\n",
      "actual labels: 126 126 126 48 126 78 123 123 126 36 35 26\n",
      "predicted labels: 1 1 1 2 1 1 2 1 1 2 1 1\n",
      "\n",
      "input sentence: list all flights arriving in denver between DIGIT and DIGIT pm\n",
      "actual labels: 126 126 126 126 126 78 126 13 126 10 86\n",
      "predicted labels: 1 1 1 2 1 1 1 2 1 1 2\n",
      "\n",
      "input sentence: list flights from indianapolis to memphis on monday\n",
      "actual labels: 126 126 126 48 126 78 126 26\n",
      "predicted labels: 1 1 1 2 1 1 1 2\n",
      "\n",
      "input sentence: on next wednesday flight from kansas city to chicago should arrive in chicago around DIGIT pm return flight on thursday\n",
      "actual labels: 126 25 26 126 126 48 109 126 78 126 126 126 78 15 14 89 126 126 126 60\n",
      "predicted labels: 1 1 1 1 1 2 1 1 2 1 1 1 2 1 1 2 1 1 1 2\n",
      "\n",
      "input sentence: how far is toronto international from downtown\n",
      "actual labels: 126 126 126 4 84 126 126\n",
      "predicted labels: 1 1 1 2 1 1 2\n",
      "\n"
     ]
    }
   ],
   "source": [
    "pred = []\n",
    "for i in random.sample(xrange(len(test_set)), 10):\n",
    "    test_example = [ (999, word[1]) for word in test_set[i] ]\n",
    "    test_labels  = [ label[0] for label in test_set[i] ]\n",
    "    print 'input sentence:', ' '.join([word[1] for word in test_set[i]])\n",
    "    print 'actual labels:', ' '.join([str(label) for label in test_labels])\n",
    "    print 'predicted labels:', ' '.join([str(pred) for pred in sequenceLabeler.predict(test_example)])\n",
    "    print ''"
   ]
  },
  {
   "cell_type": "code",
   "execution_count": 14,
   "metadata": {
    "collapsed": false
   },
   "outputs": [
    {
     "name": "stdout",
     "output_type": "stream",
     "text": [
      "B-airline_code B-airline_name\n"
     ]
    }
   ],
   "source": [
    "print idx2labels[1], idx2labels[2]"
   ]
  }
 ],
 "metadata": {
  "kernelspec": {
   "display_name": "Python 2",
   "language": "python",
   "name": "python2"
  },
  "language_info": {
   "codemirror_mode": {
    "name": "ipython",
    "version": 2
   },
   "file_extension": ".py",
   "mimetype": "text/x-python",
   "name": "python",
   "nbconvert_exporter": "python",
   "pygments_lexer": "ipython2",
   "version": "2.7.6"
  }
 },
 "nbformat": 4,
 "nbformat_minor": 0
}
